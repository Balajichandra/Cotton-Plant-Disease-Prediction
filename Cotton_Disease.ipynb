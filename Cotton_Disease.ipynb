{
 "cells": [
  {
   "cell_type": "code",
   "execution_count": 21,
   "id": "f547e4c3",
   "metadata": {},
   "outputs": [],
   "source": [
    "#To allocate memorey for gpu(here we are using 50%)\n",
    "from tensorflow.compat.v1 import ConfigProto\n",
    "from tensorflow.compat.v1 import InteractiveSession\n",
    "\n",
    "config = ConfigProto()\n",
    "config.gpu_options.per_process_gpu_memory_fraction = 0.5\n",
    "config.gpu_options.allow_growth = True\n",
    "session = InteractiveSession(config=config)"
   ]
  },
  {
   "cell_type": "code",
   "execution_count": 2,
   "id": "b2810c9e",
   "metadata": {},
   "outputs": [
    {
     "name": "stdout",
     "output_type": "stream",
     "text": [
      "2.0.0\n"
     ]
    }
   ],
   "source": [
    "import tensorflow as tf\n",
    "print(tf.__version__)"
   ]
  },
  {
   "cell_type": "code",
   "execution_count": 3,
   "id": "66076308",
   "metadata": {},
   "outputs": [],
   "source": [
    "from keras.layers import Input, Lambda, Dense, Flatten\n",
    "from keras.models import Model\n",
    "from keras.applications.vgg16 import VGG16\n",
    "from keras.preprocessing import image\n",
    "from keras.preprocessing.image import ImageDataGenerator,load_img\n",
    "from keras.models import Sequential"
   ]
  },
  {
   "cell_type": "code",
   "execution_count": 4,
   "id": "126063eb",
   "metadata": {},
   "outputs": [],
   "source": [
    "import numpy as np\n",
    "from glob import glob"
   ]
  },
  {
   "cell_type": "code",
   "execution_count": 5,
   "id": "1c39dd49",
   "metadata": {},
   "outputs": [],
   "source": [
    "#resize all images\n",
    "IMAGE_SIZE = [224,224]\n",
    "train_path = 'train'\n",
    "test_path = 'test'"
   ]
  },
  {
   "cell_type": "code",
   "execution_count": 6,
   "id": "c96fd597",
   "metadata": {},
   "outputs": [],
   "source": [
    "vgg16 = VGG16(input_shape=IMAGE_SIZE + [3],weights='imagenet',include_top=False)"
   ]
  },
  {
   "cell_type": "code",
   "execution_count": 7,
   "id": "8f39d246",
   "metadata": {},
   "outputs": [],
   "source": [
    "#dont train existing weights\n",
    "for layer in vgg16.layers:\n",
    "    layer.trainable = False"
   ]
  },
  {
   "cell_type": "code",
   "execution_count": 8,
   "id": "6d042ff9",
   "metadata": {},
   "outputs": [
    {
     "data": {
      "text/plain": [
       "['train\\\\diseased cotton leaf',\n",
       " 'train\\\\diseased cotton plant',\n",
       " 'train\\\\fresh cotton leaf',\n",
       " 'train\\\\fresh cotton plant']"
      ]
     },
     "execution_count": 8,
     "metadata": {},
     "output_type": "execute_result"
    }
   ],
   "source": [
    "train_folders = glob('train/*')\n",
    "train_folders"
   ]
  },
  {
   "cell_type": "code",
   "execution_count": 9,
   "id": "50e5db80",
   "metadata": {},
   "outputs": [
    {
     "data": {
      "text/plain": [
       "['test\\\\diseased cotton leaf',\n",
       " 'test\\\\diseased cotton plant',\n",
       " 'test\\\\fresh cotton leaf',\n",
       " 'test\\\\fresh cotton plant']"
      ]
     },
     "execution_count": 9,
     "metadata": {},
     "output_type": "execute_result"
    }
   ],
   "source": [
    "test_folders = glob('test/*')\n",
    "test_folders"
   ]
  },
  {
   "cell_type": "code",
   "execution_count": 10,
   "id": "1f7e2f02",
   "metadata": {},
   "outputs": [],
   "source": [
    "#flattern layer\n",
    "x = Flatten()(vgg16.output)"
   ]
  },
  {
   "cell_type": "code",
   "execution_count": 11,
   "id": "7ddc5a9e",
   "metadata": {},
   "outputs": [],
   "source": [
    "prediction = Dense(4,activation='softmax')(x)\n",
    "#create model\n",
    "model = Model(inputs=vgg16.input,outputs=prediction)"
   ]
  },
  {
   "cell_type": "code",
   "execution_count": 12,
   "id": "73d4865a",
   "metadata": {},
   "outputs": [
    {
     "name": "stdout",
     "output_type": "stream",
     "text": [
      "Model: \"model_1\"\n",
      "_________________________________________________________________\n",
      "Layer (type)                 Output Shape              Param #   \n",
      "=================================================================\n",
      "input_1 (InputLayer)         (None, 224, 224, 3)       0         \n",
      "_________________________________________________________________\n",
      "block1_conv1 (Conv2D)        (None, 224, 224, 64)      1792      \n",
      "_________________________________________________________________\n",
      "block1_conv2 (Conv2D)        (None, 224, 224, 64)      36928     \n",
      "_________________________________________________________________\n",
      "block1_pool (MaxPooling2D)   (None, 112, 112, 64)      0         \n",
      "_________________________________________________________________\n",
      "block2_conv1 (Conv2D)        (None, 112, 112, 128)     73856     \n",
      "_________________________________________________________________\n",
      "block2_conv2 (Conv2D)        (None, 112, 112, 128)     147584    \n",
      "_________________________________________________________________\n",
      "block2_pool (MaxPooling2D)   (None, 56, 56, 128)       0         \n",
      "_________________________________________________________________\n",
      "block3_conv1 (Conv2D)        (None, 56, 56, 256)       295168    \n",
      "_________________________________________________________________\n",
      "block3_conv2 (Conv2D)        (None, 56, 56, 256)       590080    \n",
      "_________________________________________________________________\n",
      "block3_conv3 (Conv2D)        (None, 56, 56, 256)       590080    \n",
      "_________________________________________________________________\n",
      "block3_pool (MaxPooling2D)   (None, 28, 28, 256)       0         \n",
      "_________________________________________________________________\n",
      "block4_conv1 (Conv2D)        (None, 28, 28, 512)       1180160   \n",
      "_________________________________________________________________\n",
      "block4_conv2 (Conv2D)        (None, 28, 28, 512)       2359808   \n",
      "_________________________________________________________________\n",
      "block4_conv3 (Conv2D)        (None, 28, 28, 512)       2359808   \n",
      "_________________________________________________________________\n",
      "block4_pool (MaxPooling2D)   (None, 14, 14, 512)       0         \n",
      "_________________________________________________________________\n",
      "block5_conv1 (Conv2D)        (None, 14, 14, 512)       2359808   \n",
      "_________________________________________________________________\n",
      "block5_conv2 (Conv2D)        (None, 14, 14, 512)       2359808   \n",
      "_________________________________________________________________\n",
      "block5_conv3 (Conv2D)        (None, 14, 14, 512)       2359808   \n",
      "_________________________________________________________________\n",
      "block5_pool (MaxPooling2D)   (None, 7, 7, 512)         0         \n",
      "_________________________________________________________________\n",
      "flatten_1 (Flatten)          (None, 25088)             0         \n",
      "_________________________________________________________________\n",
      "dense_1 (Dense)              (None, 4)                 100356    \n",
      "=================================================================\n",
      "Total params: 14,815,044\n",
      "Trainable params: 100,356\n",
      "Non-trainable params: 14,714,688\n",
      "_________________________________________________________________\n"
     ]
    }
   ],
   "source": [
    "model.summary()"
   ]
  },
  {
   "cell_type": "code",
   "execution_count": 13,
   "id": "aba3e785",
   "metadata": {},
   "outputs": [],
   "source": [
    "model.compile(loss='categorical_crossentropy',\n",
    "              optimizer='adam',\n",
    "              metrics=['accuracy'])"
   ]
  },
  {
   "cell_type": "code",
   "execution_count": 14,
   "id": "a83287b0",
   "metadata": {},
   "outputs": [],
   "source": [
    "train_datagen = ImageDataGenerator(rescale=1./255,\n",
    "                                   shear_range=0.2,\n",
    "                                   zoom_range=0.2,\n",
    "                                   horizontal_flip = True)"
   ]
  },
  {
   "cell_type": "code",
   "execution_count": 15,
   "id": "dadf20fe",
   "metadata": {},
   "outputs": [],
   "source": [
    "test_datagen = ImageDataGenerator(rescale=1./255)"
   ]
  },
  {
   "cell_type": "code",
   "execution_count": 16,
   "id": "ccd314c8",
   "metadata": {},
   "outputs": [
    {
     "name": "stdout",
     "output_type": "stream",
     "text": [
      "Found 1951 images belonging to 4 classes.\n"
     ]
    }
   ],
   "source": [
    "training_set = train_datagen.flow_from_directory('train',\n",
    "                                                 target_size=(224,224),\n",
    "                                                 batch_size = 32,\n",
    "                                                 class_mode = 'categorical')"
   ]
  },
  {
   "cell_type": "code",
   "execution_count": 17,
   "id": "426ba75b",
   "metadata": {},
   "outputs": [
    {
     "name": "stdout",
     "output_type": "stream",
     "text": [
      "Found 106 images belonging to 4 classes.\n"
     ]
    }
   ],
   "source": [
    "test_set = test_datagen.flow_from_directory('test',\n",
    "                                            target_size = (224,224),\n",
    "                                            batch_size = 32,\n",
    "                                            class_mode = 'categorical')"
   ]
  },
  {
   "cell_type": "code",
   "execution_count": 18,
   "id": "de215923",
   "metadata": {},
   "outputs": [
    {
     "name": "stdout",
     "output_type": "stream",
     "text": [
      "Epoch 1/20\n",
      "61/61 [==============================] - 71s 1s/step - loss: 0.6460 - accuracy: 0.7581 - val_loss: 0.5607 - val_accuracy: 0.8679\n",
      "Epoch 2/20\n",
      "61/61 [==============================] - 25s 414ms/step - loss: 0.2336 - accuracy: 0.9108 - val_loss: 0.1659 - val_accuracy: 0.9057\n",
      "Epoch 3/20\n",
      "61/61 [==============================] - 25s 403ms/step - loss: 0.1981 - accuracy: 0.9257 - val_loss: 0.2411 - val_accuracy: 0.9434\n",
      "Epoch 4/20\n",
      "61/61 [==============================] - 20s 324ms/step - loss: 0.1335 - accuracy: 0.9493 - val_loss: 0.0641 - val_accuracy: 0.9528\n",
      "Epoch 5/20\n",
      "61/61 [==============================] - 20s 322ms/step - loss: 0.1058 - accuracy: 0.9713 - val_loss: 0.0574 - val_accuracy: 0.9340\n",
      "Epoch 6/20\n",
      "61/61 [==============================] - 20s 320ms/step - loss: 0.1049 - accuracy: 0.9672 - val_loss: 0.0113 - val_accuracy: 0.9434\n",
      "Epoch 7/20\n",
      "61/61 [==============================] - 20s 323ms/step - loss: 0.0781 - accuracy: 0.9754 - val_loss: 0.1523 - val_accuracy: 0.9340\n",
      "Epoch 8/20\n",
      "61/61 [==============================] - 20s 322ms/step - loss: 0.0689 - accuracy: 0.9826 - val_loss: 0.1608 - val_accuracy: 0.9528\n",
      "Epoch 9/20\n",
      "61/61 [==============================] - 20s 320ms/step - loss: 0.0607 - accuracy: 0.9810 - val_loss: 0.0070 - val_accuracy: 0.9434\n",
      "Epoch 10/20\n",
      "61/61 [==============================] - 26s 423ms/step - loss: 0.0521 - accuracy: 0.9887 - val_loss: 0.0083 - val_accuracy: 0.9434\n",
      "Epoch 11/20\n",
      "61/61 [==============================] - 23s 371ms/step - loss: 0.0564 - accuracy: 0.9851 - val_loss: 0.0100 - val_accuracy: 0.9623\n",
      "Epoch 12/20\n",
      "61/61 [==============================] - 20s 322ms/step - loss: 0.0933 - accuracy: 0.9667 - val_loss: 0.2727 - val_accuracy: 0.9623\n",
      "Epoch 13/20\n",
      "61/61 [==============================] - 20s 321ms/step - loss: 0.0493 - accuracy: 0.9867 - val_loss: 0.0970 - val_accuracy: 0.9528\n",
      "Epoch 14/20\n",
      "61/61 [==============================] - 19s 319ms/step - loss: 0.0342 - accuracy: 0.9908 - val_loss: 0.1212 - val_accuracy: 0.9528\n",
      "Epoch 15/20\n",
      "61/61 [==============================] - 20s 322ms/step - loss: 0.0466 - accuracy: 0.9846 - val_loss: 0.0010 - val_accuracy: 0.9717\n",
      "Epoch 16/20\n",
      "61/61 [==============================] - 20s 320ms/step - loss: 0.0452 - accuracy: 0.9867 - val_loss: 0.0921 - val_accuracy: 0.9434\n",
      "Epoch 17/20\n",
      "61/61 [==============================] - 20s 324ms/step - loss: 0.0297 - accuracy: 0.9918 - val_loss: 0.0033 - val_accuracy: 0.9717\n",
      "Epoch 18/20\n",
      "61/61 [==============================] - 19s 319ms/step - loss: 0.0295 - accuracy: 0.9928 - val_loss: 0.0073 - val_accuracy: 0.9717\n",
      "Epoch 19/20\n",
      "61/61 [==============================] - 20s 321ms/step - loss: 0.0257 - accuracy: 0.9928 - val_loss: 0.2252 - val_accuracy: 0.9717\n",
      "Epoch 20/20\n",
      "61/61 [==============================] - 20s 323ms/step - loss: 0.0221 - accuracy: 0.9949 - val_loss: 0.0142 - val_accuracy: 0.9623\n"
     ]
    }
   ],
   "source": [
    "#fit the model\n",
    "r = model.fit_generator(training_set,\n",
    "                        validation_data = test_set,\n",
    "                        epochs=20,\n",
    "                        steps_per_epoch = len(training_set),\n",
    "                        validation_steps = len(test_set))"
   ]
  },
  {
   "cell_type": "code",
   "execution_count": 19,
   "id": "e41056ef",
   "metadata": {},
   "outputs": [],
   "source": [
    "from keras.models import load_model\n",
    "model.save('cotton_disease_vgg16.h5')"
   ]
  },
  {
   "cell_type": "code",
   "execution_count": null,
   "id": "f75cb059",
   "metadata": {},
   "outputs": [],
   "source": []
  }
 ],
 "metadata": {
  "kernelspec": {
   "display_name": "Python 3",
   "language": "python",
   "name": "python3"
  },
  "language_info": {
   "codemirror_mode": {
    "name": "ipython",
    "version": 3
   },
   "file_extension": ".py",
   "mimetype": "text/x-python",
   "name": "python",
   "nbconvert_exporter": "python",
   "pygments_lexer": "ipython3",
   "version": "3.8.8"
  }
 },
 "nbformat": 4,
 "nbformat_minor": 5
}
